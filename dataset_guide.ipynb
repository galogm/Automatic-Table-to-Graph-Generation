{
 "cells": [
  {
   "cell_type": "markdown",
   "id": "36cebd8d-24e0-4220-9f9c-fdab6e18fcec",
   "metadata": {},
   "source": [
    "# DBInfer-Bench Dataset Guide\n",
    "\n",
    "DBInfer-Bench is a collection of benchmarks for evaluating the predictive capability of machine learning solutions over data stored as multiple tables, of which the core is the dataset definition. This tutorial introduces the basic usages of datasets including how to load, access and analyze them."
   ]
  },
  {
   "cell_type": "markdown",
   "id": "0ede5953-4472-438c-a96a-db446797d43c",
   "metadata": {},
   "source": [
    "To load a built-in dataset, use the `load_rdb_data` API."
   ]
  },
  {
   "cell_type": "code",
   "execution_count": 1,
   "id": "e7df9a5e-92d4-41d9-b81b-674278841f79",
   "metadata": {},
   "outputs": [
    {
     "name": "stderr",
     "output_type": "stream",
     "text": [
      "100%|████████████████████████████████████████████████████████████████████████████████████████████████████████| 322M/322M [00:03<00:00, 98.4MB/s]\n"
     ]
    },
    {
     "name": "stdout",
     "output_type": "stream",
     "text": [
      "Extracting datasets/20240304-diginetica.tar ...\n"
     ]
    }
   ],
   "source": [
    "import dbinfer_bench as dbb\n",
    "dataset = dbb.load_rdb_data('diginetica')"
   ]
  },
  {
   "cell_type": "markdown",
   "id": "5c630a0c-1dfa-44eb-86b0-e68b51f27228",
   "metadata": {},
   "source": [
    "At high-level, each dataset contains three types of data:\n",
    "* *Metadata* that contains schema information of each table (e.g., column data type), table relationships, etc.\n",
    "* *Table data* that stores the table contents.\n",
    "* *Task data* that represents the intended tasks to be solved over the dataset.\n",
    "\n",
    "We will go over them one-by-one."
   ]
  },
  {
   "cell_type": "markdown",
   "id": "c820039d-fc4e-4365-b017-81bef9997b25",
   "metadata": {},
   "source": [
    "## Metadata\n",
    "\n",
    "Metadata is accessible via the `metadata` property, which inherits [PyDantic Model](https://docs.pydantic.dev/latest/concepts/models/). You can print it in JSON or YAML format to view its content."
   ]
  },
  {
   "cell_type": "code",
   "execution_count": 2,
   "id": "3baf724b-f1ed-4852-b575-6000a2dacfb5",
   "metadata": {},
   "outputs": [
    {
     "name": "stdout",
     "output_type": "stream",
     "text": [
      "{\n",
      "  \"dataset_name\": \"diginetica\",\n",
      "  \"tables\": [\n",
      "    {\n",
      "      \"name\": \"Product\",\n",
      "      \"source\": \"data/products.pqt\",\n",
      "      \"format\": \"parquet\",\n",
      "      \"columns\": [\n",
      "        {\n",
      "          \"name\": \"itemId\",\n",
      "          \"dtype\": \"primary_key\"\n",
      "        },\n",
      "        {\n",
      "          \"name\": \"categoryId\",\n",
      "          \"dtype\": \"category\"\n",
      "        },\n",
      "        {\n",
      "          \"name\": \"pricelog2\",\n",
      "          \"dtype\": \"float\"\n",
      "        }\n",
      "      ],\n",
      "      \"time_column\": null\n",
      "    },\n",
      "    {\n",
      "      \"name\": \"Click\",\n",
      "      \"source\": \"data/clicks.pqt\",\n",
      "      \"format\": \"parquet\",\n",
      "      \"columns\": [\n",
      "        {\n",
      "          \"name\": \"queryId\",\n",
      "          \"dtype\": \"foreign_key\",\n",
      "          \"link_to\": \"Query.queryId\"\n",
      "        },\n",
      "        {\n",
      "          \"name\": \"itemId\",\n",
      "          \"dtype\": \"foreign_key\",\n",
      "          \"link_to\": \"Product.itemId\"\n",
      "        },\n",
      "        {\n",
      "          \"name\": \"timestamp\",\n",
      "          \"dtype\": \"datetime\"\n",
      "        }\n",
      "      ],\n",
      "      \"time_column\": \"timestamp\"\n",
      "    },\n",
      "    {\n",
      "      \"name\": \"QueryResult\",\n",
      "      \"source\": \"data/query_results.pqt\",\n",
      "      \"format\": \"parquet\",\n",
      "      \"columns\": [\n",
      "        {\n",
      "          \"name\": \"queryId\",\n",
      "          \"dtype\": \"foreign_key\",\n",
      "          \"link_to\": \"Query.queryId\"\n",
      "        },\n",
      "        {\n",
      "          \"name\": \"itemId\",\n",
      "          \"dtype\": \"foreign_key\",\n",
      "          \"link_to\": \"Product.itemId\"\n",
      "        },\n",
      "        {\n",
      "          \"name\": \"timestamp\",\n",
      "          \"dtype\": \"datetime\"\n",
      "        }\n",
      "      ],\n",
      "      \"time_column\": \"timestamp\"\n",
      "    },\n",
      "    {\n",
      "      \"name\": \"View\",\n",
      "      \"source\": \"data/item_views.pqt\",\n",
      "      \"format\": \"parquet\",\n",
      "      \"columns\": [\n",
      "        {\n",
      "          \"name\": \"sessionId\",\n",
      "          \"dtype\": \"foreign_key\",\n",
      "          \"link_to\": \"Session.id\"\n",
      "        },\n",
      "        {\n",
      "          \"name\": \"userId\",\n",
      "          \"dtype\": \"foreign_key\",\n",
      "          \"link_to\": \"User.id\"\n",
      "        },\n",
      "        {\n",
      "          \"name\": \"itemId\",\n",
      "          \"dtype\": \"foreign_key\",\n",
      "          \"link_to\": \"Product.itemId\"\n",
      "        },\n",
      "        {\n",
      "          \"name\": \"timestamp\",\n",
      "          \"dtype\": \"datetime\"\n",
      "        }\n",
      "      ],\n",
      "      \"time_column\": \"timestamp\"\n",
      "    },\n",
      "    {\n",
      "      \"name\": \"Purchase\",\n",
      "      \"source\": \"data/purchases.pqt\",\n",
      "      \"format\": \"parquet\",\n",
      "      \"columns\": [\n",
      "        {\n",
      "          \"name\": \"sessionId\",\n",
      "          \"dtype\": \"foreign_key\",\n",
      "          \"link_to\": \"Session.id\"\n",
      "        },\n",
      "        {\n",
      "          \"name\": \"userId\",\n",
      "          \"dtype\": \"foreign_key\",\n",
      "          \"link_to\": \"User.id\"\n",
      "        },\n",
      "        {\n",
      "          \"name\": \"itemId\",\n",
      "          \"dtype\": \"foreign_key\",\n",
      "          \"link_to\": \"Product.itemId\"\n",
      "        },\n",
      "        {\n",
      "          \"name\": \"ordernumber\",\n",
      "          \"dtype\": \"foreign_key\",\n",
      "          \"link_to\": \"Orders.id\"\n",
      "        },\n",
      "        {\n",
      "          \"name\": \"timestamp\",\n",
      "          \"dtype\": \"datetime\"\n",
      "        }\n",
      "      ],\n",
      "      \"time_column\": \"timestamp\"\n",
      "    },\n",
      "    {\n",
      "      \"name\": \"Query\",\n",
      "      \"source\": \"data/queries.pqt\",\n",
      "      \"format\": \"parquet\",\n",
      "      \"columns\": [\n",
      "        {\n",
      "          \"name\": \"queryId\",\n",
      "          \"dtype\": \"primary_key\"\n",
      "        },\n",
      "        {\n",
      "          \"name\": \"sessionId\",\n",
      "          \"dtype\": \"foreign_key\",\n",
      "          \"link_to\": \"Session.id\"\n",
      "        },\n",
      "        {\n",
      "          \"name\": \"userId\",\n",
      "          \"dtype\": \"foreign_key\",\n",
      "          \"link_to\": \"User.id\"\n",
      "        },\n",
      "        {\n",
      "          \"name\": \"duration\",\n",
      "          \"dtype\": \"float\"\n",
      "        },\n",
      "        {\n",
      "          \"name\": \"categoryId\",\n",
      "          \"dtype\": \"category\"\n",
      "        },\n",
      "        {\n",
      "          \"name\": \"timestamp\",\n",
      "          \"dtype\": \"datetime\"\n",
      "        }\n",
      "      ],\n",
      "      \"time_column\": \"timestamp\"\n",
      "    },\n",
      "    {\n",
      "      \"name\": \"ProductNameToken\",\n",
      "      \"source\": \"data/product_name_tokens.pqt\",\n",
      "      \"format\": \"parquet\",\n",
      "      \"columns\": [\n",
      "        {\n",
      "          \"name\": \"itemId\",\n",
      "          \"dtype\": \"foreign_key\",\n",
      "          \"link_to\": \"Product.itemId\"\n",
      "        },\n",
      "        {\n",
      "          \"name\": \"token\",\n",
      "          \"dtype\": \"foreign_key\",\n",
      "          \"link_to\": \"Token.id\"\n",
      "        }\n",
      "      ],\n",
      "      \"time_column\": null\n",
      "    },\n",
      "    {\n",
      "      \"name\": \"QuerySearchstringToken\",\n",
      "      \"source\": \"data/query_searchstring_tokens.pqt\",\n",
      "      \"format\": \"parquet\",\n",
      "      \"columns\": [\n",
      "        {\n",
      "          \"name\": \"queryId\",\n",
      "          \"dtype\": \"foreign_key\",\n",
      "          \"link_to\": \"Query.queryId\"\n",
      "        },\n",
      "        {\n",
      "          \"name\": \"token\",\n",
      "          \"dtype\": \"foreign_key\",\n",
      "          \"link_to\": \"Token.id\"\n",
      "        }\n",
      "      ],\n",
      "      \"time_column\": null\n",
      "    }\n",
      "  ],\n",
      "  \"tasks\": [\n",
      "    {\n",
      "      \"name\": \"ctr\",\n",
      "      \"source\": \"ctr/ctr-100k_{split}.pqt\",\n",
      "      \"format\": \"parquet\",\n",
      "      \"columns\": [\n",
      "        {\n",
      "          \"name\": \"itemId\",\n",
      "          \"dtype\": \"foreign_key\",\n",
      "          \"link_to\": \"Product.itemId\"\n",
      "        },\n",
      "        {\n",
      "          \"name\": \"queryId\",\n",
      "          \"dtype\": \"foreign_key\",\n",
      "          \"link_to\": \"Query.queryId\"\n",
      "        },\n",
      "        {\n",
      "          \"name\": \"timestamp\",\n",
      "          \"dtype\": \"datetime\"\n",
      "        },\n",
      "        {\n",
      "          \"name\": \"clicked\",\n",
      "          \"dtype\": \"category\"\n",
      "        }\n",
      "      ],\n",
      "      \"time_column\": \"timestamp\",\n",
      "      \"evaluation_metric\": \"auroc\",\n",
      "      \"target_column\": \"clicked\",\n",
      "      \"target_table\": \"Click\",\n",
      "      \"task_type\": \"classification\",\n",
      "      \"key_prediction_label_column\": \"label\",\n",
      "      \"key_prediction_query_idx_column\": \"query_idx\"\n",
      "    },\n",
      "    {\n",
      "      \"name\": \"purchase\",\n",
      "      \"source\": \"purchase/purchase_{split}.pqt\",\n",
      "      \"format\": \"parquet\",\n",
      "      \"columns\": [\n",
      "        {\n",
      "          \"name\": \"itemId\",\n",
      "          \"dtype\": \"foreign_key\",\n",
      "          \"link_to\": \"Product.itemId\"\n",
      "        },\n",
      "        {\n",
      "          \"name\": \"sessionId\",\n",
      "          \"dtype\": \"foreign_key\",\n",
      "          \"link_to\": \"Session.id\"\n",
      "        },\n",
      "        {\n",
      "          \"name\": \"timestamp\",\n",
      "          \"dtype\": \"datetime\"\n",
      "        }\n",
      "      ],\n",
      "      \"time_column\": \"timestamp\",\n",
      "      \"evaluation_metric\": \"mrr\",\n",
      "      \"target_column\": \"itemId\",\n",
      "      \"target_table\": \"Purchase\",\n",
      "      \"task_type\": \"retrieval\",\n",
      "      \"key_prediction_label_column\": \"label\",\n",
      "      \"key_prediction_query_idx_column\": \"query_idx\"\n",
      "    }\n",
      "  ],\n",
      "  \"column_groups\": null\n",
      "}\n"
     ]
    }
   ],
   "source": [
    "import json\n",
    "print(dataset.metadata.json(indent=2))"
   ]
  },
  {
   "cell_type": "markdown",
   "id": "7d7283e0-91e3-4a15-97e6-3aecf7c80592",
   "metadata": {},
   "source": [
    "Accessing its attributes is easy as it is just like accessing a normal python class. Below are some examples:"
   ]
  },
  {
   "cell_type": "code",
   "execution_count": 3,
   "id": "b9447f24-028c-4d7e-877e-68d607c32e17",
   "metadata": {},
   "outputs": [
    {
     "name": "stdout",
     "output_type": "stream",
     "text": [
      "diginetica\n",
      "Product\n",
      "name='itemId' dtype='primary_key'\n"
     ]
    }
   ],
   "source": [
    "metadata = dataset.metadata\n",
    "print(metadata.dataset_name)           # Dataset name.\n",
    "print(metadata.tables[0].name)         # Name of the first table.\n",
    "print(metadata.tables[0].columns[0])   # Schema of the first column of the first table."
   ]
  },
  {
   "cell_type": "markdown",
   "id": "e43c2762-9f63-453c-a969-c8b6f617d18c",
   "metadata": {},
   "source": [
    "Most of the attributes are self-explained. Formal definition can be found [here](https://github.com/awslabs/multi-table-benchmark/blob/main/dbinfer_bench/dataset_meta.py). You can also plot the RDB schema using the `sqlalchemy_schemadisplay` package."
   ]
  },
  {
   "cell_type": "code",
   "execution_count": 4,
   "id": "e3d496be-979e-4591-89bd-03a6d7729b19",
   "metadata": {},
   "outputs": [],
   "source": [
    "# Uncomment to install the required package.\n",
    "#!pip install sqlalchemy_schemadisplay"
   ]
  },
  {
   "cell_type": "code",
   "execution_count": 5,
   "id": "dacdfdaa-c397-40b4-b61e-1e91c65425cf",
   "metadata": {},
   "outputs": [],
   "source": [
    "from sqlalchemy import create_engine\n",
    "from sqlalchemy_schemadisplay import create_schema_graph\n",
    "# Use the sqlalchemy_metadata attribute to get metadata in sqlalchemy format.\n",
    "sa_metadata = dataset.sqlalchemy_metadata\n",
    "graph = create_schema_graph(engine=create_engine('sqlite://'),  # Use a temporary in-memory sqlite db.\n",
    "                            metadata=sa_metadata,\n",
    "                            show_datatypes=True,                # The image would show datatypes\n",
    "                            show_indexes=True,                  # The image would show index names and unique constraints\n",
    "                            rankdir='LR',                       # From left to right, instead of top to bottom\n",
    "                            concentrate=False)                  # Don't try to join the relation lines together"
   ]
  },
  {
   "cell_type": "code",
   "execution_count": 6,
   "id": "5a639001-07ce-44c6-9330-f59215780189",
   "metadata": {},
   "outputs": [
    {
     "data": {
      "image/png": "[encoded data removed]",
      "text/plain": [
       "<IPython.core.display.Image object>"
      ]
     },
     "metadata": {},
     "output_type": "display_data"
    }
   ],
   "source": [
    "from IPython.display import Image, display\n",
    "\n",
    "plt = Image(graph.create_png())\n",
    "display(plt)"
   ]
  },
  {
   "cell_type": "markdown",
   "id": "91a71db4-b4ff-4beb-9262-a0825556fcb0",
   "metadata": {},
   "source": [
    "Note that in the schema graph above, `Session`, `User`, `Orders` and `Token` tables are not explicitly defined in the dataset. Instead, they are referenced by some foreign keys (using the `link_to` attribute). These *missing* tables are very common in real-world scenarios and we expect ML solutions to handle them properly."
   ]
  },
  {
   "cell_type": "markdown",
   "id": "1109595b-fded-438d-8c7b-7ddffed48981",
   "metadata": {},
   "source": [
    "## Tables\n",
    "\n",
    "Tables are accessible via the `tables` attribute. Each table is a collection of columns, thus stored as a dictionary of NumPy arrays."
   ]
  },
  {
   "cell_type": "code",
   "execution_count": 7,
   "id": "03c02849-afbe-41e5-9e17-81a9da5e5fda",
   "metadata": {},
   "outputs": [
    {
     "name": "stdout",
     "output_type": "stream",
     "text": [
      "{'queryId': array([     1,      2,      4, ..., 980498, 980500, 980503]), 'sessionId': array([     1,      2,      4, ..., 168396,  13265, 600687]), 'userId': array([    nan,     nan,     nan, ...,     nan,     nan, 249347.]), 'duration': array([ 311,  314, 1092, ..., 2208, 1203,  169]), 'categoryId': array([  0,   0,   0, ..., 389, 257, 305]), 'timestamp': array(['2016-05-09T12:26:37.709000000', '2016-05-09T12:27:47.315000000',\n",
      "       '2016-05-09T12:24:39.459000000', ...,\n",
      "       '2016-03-25T20:49:29.220000000', '2016-04-14T16:47:16.115000000',\n",
      "       '2016-02-16T11:41:51.722000000'], dtype='datetime64[ns]')}\n"
     ]
    }
   ],
   "source": [
    "print(dataset.tables['Query'])"
   ]
  },
  {
   "cell_type": "markdown",
   "id": "e99b7fe8-e47e-4ed9-9620-a6e0104fbfd5",
   "metadata": {},
   "source": [
    "The choice of NumPy array dictionary makes it easier to support vector embeddings. In other cases, using `pandas.DataFrame` can be more convenient for analysis."
   ]
  },
  {
   "cell_type": "code",
   "execution_count": 8,
   "id": "68101f13-065b-4395-bfde-a050a56ccb8a",
   "metadata": {},
   "outputs": [
    {
     "name": "stdout",
     "output_type": "stream",
     "text": [
      "        queryId  sessionId    userId  duration  categoryId  \\\n",
      "0             1          1       NaN       311           0   \n",
      "1             2          2       NaN       314           0   \n",
      "2             4          4       NaN      1092           0   \n",
      "3             5          5       NaN       266           0   \n",
      "4             6          6       NaN       673           0   \n",
      "...         ...        ...       ...       ...         ...   \n",
      "636155   980495     469303  189994.0       886         444   \n",
      "636156   980496     156138       NaN       852         755   \n",
      "636157   980498     168396       NaN      2208         389   \n",
      "636158   980500      13265       NaN      1203         257   \n",
      "636159   980503     600687  249347.0       169         305   \n",
      "\n",
      "                     timestamp  \n",
      "0      2016-05-09 12:26:37.709  \n",
      "1      2016-05-09 12:27:47.315  \n",
      "2      2016-05-09 12:24:39.459  \n",
      "3      2016-05-09 09:01:58.186  \n",
      "4      2016-05-09 10:57:47.335  \n",
      "...                        ...  \n",
      "636155 2016-02-24 18:19:48.105  \n",
      "636156 2016-04-07 08:47:29.482  \n",
      "636157 2016-03-25 20:49:29.220  \n",
      "636158 2016-04-14 16:47:16.115  \n",
      "636159 2016-02-16 11:41:51.722  \n",
      "\n",
      "[636160 rows x 6 columns]\n"
     ]
    }
   ],
   "source": [
    "import pandas as pd\n",
    "query_df = pd.DataFrame(dataset.tables['Query'])\n",
    "print(query_df)"
   ]
  },
  {
   "cell_type": "markdown",
   "id": "fd1d1e8d-445a-468b-ba0a-aa6ae763e0db",
   "metadata": {},
   "source": [
    "## Tasks\n",
    "\n",
    "DBInfer-Bench tests the capability of ML solutions to predict the values of a target column in a target table given the entire RDB data. Based on the semantics of the target column, the prediction task can be further mapped to three kinds:\n",
    "* *Classification* task if the target column contains categorical values. Typical evaluation metrics: accuracy, auroc.\n",
    "* *Regression* task if the target column contains floating values. Typical evaluation metrics: rmse, mae.\n",
    "* *Retrieval* task if the target column contains foreign keys. Typical evaluation metrics: mrr@k, hit@k.\n",
    "\n",
    "Each dataset can have one or many associated tasks, since we encourage solutions that are competitive across different settings. Use `dataset.tasks` to get the list of pre-defined tasks or use `dataset.get_task(name)` to get a task by its name:"
   ]
  },
  {
   "cell_type": "code",
   "execution_count": 9,
   "id": "ff34db43-3372-4f14-83b6-29bdaab2c6cb",
   "metadata": {},
   "outputs": [
    {
     "name": "stdout",
     "output_type": "stream",
     "text": [
      "Number of tasks: 2\n"
     ]
    }
   ],
   "source": [
    "print('Number of tasks:', len(dataset.tasks))\n",
    "ctr_task = dataset.get_task('ctr')"
   ]
  },
  {
   "cell_type": "markdown",
   "id": "3b965ccf-bf14-41d7-83d6-ad2e15414f64",
   "metadata": {},
   "source": [
    "Use `task.metadata` to access its metadata."
   ]
  },
  {
   "cell_type": "code",
   "execution_count": 10,
   "id": "e1272890-ae4c-4701-ba84-8ee9e6899236",
   "metadata": {},
   "outputs": [
    {
     "name": "stdout",
     "output_type": "stream",
     "text": [
      "{\n",
      "  \"name\": \"ctr\",\n",
      "  \"source\": \"ctr/ctr-100k_{split}.pqt\",\n",
      "  \"format\": \"parquet\",\n",
      "  \"columns\": [\n",
      "    {\n",
      "      \"name\": \"itemId\",\n",
      "      \"dtype\": \"foreign_key\",\n",
      "      \"link_to\": \"Product.itemId\"\n",
      "    },\n",
      "    {\n",
      "      \"name\": \"queryId\",\n",
      "      \"dtype\": \"foreign_key\",\n",
      "      \"link_to\": \"Query.queryId\"\n",
      "    },\n",
      "    {\n",
      "      \"name\": \"timestamp\",\n",
      "      \"dtype\": \"datetime\"\n",
      "    },\n",
      "    {\n",
      "      \"name\": \"clicked\",\n",
      "      \"dtype\": \"category\"\n",
      "    }\n",
      "  ],\n",
      "  \"time_column\": \"timestamp\",\n",
      "  \"evaluation_metric\": \"auroc\",\n",
      "  \"target_column\": \"clicked\",\n",
      "  \"target_table\": \"Click\",\n",
      "  \"task_type\": \"classification\",\n",
      "  \"key_prediction_label_column\": \"label\",\n",
      "  \"key_prediction_query_idx_column\": \"query_idx\"\n",
      "}\n"
     ]
    }
   ],
   "source": [
    "print(ctr_task.metadata.json(indent=2))"
   ]
  },
  {
   "cell_type": "markdown",
   "id": "5a728d60-9416-40f6-b2c8-5066806c487c",
   "metadata": {},
   "source": [
    "- `name`: Task name.\n",
    "- `source` and `format`: Storage path and format. Can be ignored.\n",
    "- `columns`: Train, validation and test samples are also stored as tables. This field specifies the column schemas. We will cover that later.\n",
    "- `time_column`: The column that stores the time each sample should respect when making predictions.\n",
    "- `evaluation_metric`: Evaluation metric.\n",
    "- `target_table`: Target table to make prediction on.\n",
    "- `target_column`: Target column (of the target table) to make prediction on.\n",
    "- `task_type`: Classification, regression or retrieval task.\n",
    "- `key_prediction_label_column`: Used for calculating retrieval metrics.\n",
    "- `key_prediction_query_idx_column`: Used for calculating retrieval metrics."
   ]
  },
  {
   "cell_type": "markdown",
   "id": "6f55afe0-8e92-4305-9778-2a450799803f",
   "metadata": {},
   "source": [
    "**Access train, validation and test sets**\n",
    "\n",
    "Train, validation and test samples are stored as separate tables (called *task tables*) aside from the data tables. Use the `train_set`, `validation_set` and `test_set` properties to access them. Although each set is stored as a dictionary of columns, each sample corresponds to a row in the table."
   ]
  },
  {
   "cell_type": "code",
   "execution_count": 11,
   "id": "05779cc4-b963-474b-b98e-36f93d9edffb",
   "metadata": {},
   "outputs": [
    {
     "name": "stdout",
     "output_type": "stream",
     "text": [
      "{'queryId': array([84337, 84337, 84337, ..., 16901, 16901, 16901]), 'itemId': array([43005, 80311, 80245, ...,  9525, 10237,  5351]), 'timestamp': array(['2016-07-28T10:21:25.778000000', '2016-07-28T10:21:25.778000000',\n",
      "       '2016-07-28T10:21:25.778000000', ...,\n",
      "       '2016-09-15T10:00:01.804000000', '2016-09-15T10:00:01.804000000',\n",
      "       '2016-09-15T10:00:01.804000000'], dtype='datetime64[ns]'), 'clicked': array([0, 0, 0, ..., 0, 0, 0])}\n",
      "Sample#0\n",
      " queryId                           84337\n",
      "itemId                            43005\n",
      "timestamp    2016-07-28 10:21:25.778000\n",
      "clicked                               0\n",
      "Name: 0, dtype: object\n",
      "Sample#1\n",
      " queryId                           84337\n",
      "itemId                            80311\n",
      "timestamp    2016-07-28 10:21:25.778000\n",
      "clicked                               0\n",
      "Name: 1, dtype: object\n"
     ]
    }
   ],
   "source": [
    "print(ctr_task.train_set)\n",
    "train_df = pd.DataFrame(ctr_task.train_set)\n",
    "print('Sample#0\\n', train_df.iloc[0])\n",
    "print('Sample#1\\n', train_df.iloc[1])"
   ]
  },
  {
   "cell_type": "markdown",
   "id": "d887b0e8-562c-4830-abf8-b7725b956bec",
   "metadata": {},
   "source": [
    "**Calculating retrieval metrics**\n",
    "\n",
    "When the task is a retrieval task, the target column will be a foreign key column and the goal is to retrieve/recommend keys from all the possible candidates. For example, the `purchase` task in the `diginetica` aims at predicting which product will likely be purchased in a session."
   ]
  },
  {
   "cell_type": "code",
   "execution_count": 12,
   "id": "16bee905-2ea6-481c-9815-dec9cdb5d895",
   "metadata": {},
   "outputs": [
    {
     "name": "stdout",
     "output_type": "stream",
     "text": [
      "{\n",
      "  \"name\": \"purchase\",\n",
      "  \"source\": \"purchase/purchase_{split}.pqt\",\n",
      "  \"format\": \"parquet\",\n",
      "  \"columns\": [\n",
      "    {\n",
      "      \"name\": \"itemId\",\n",
      "      \"dtype\": \"foreign_key\",\n",
      "      \"link_to\": \"Product.itemId\"\n",
      "    },\n",
      "    {\n",
      "      \"name\": \"sessionId\",\n",
      "      \"dtype\": \"foreign_key\",\n",
      "      \"link_to\": \"Session.id\"\n",
      "    },\n",
      "    {\n",
      "      \"name\": \"timestamp\",\n",
      "      \"dtype\": \"datetime\"\n",
      "    }\n",
      "  ],\n",
      "  \"time_column\": \"timestamp\",\n",
      "  \"evaluation_metric\": \"mrr\",\n",
      "  \"target_column\": \"itemId\",\n",
      "  \"target_table\": \"Purchase\",\n",
      "  \"task_type\": \"retrieval\",\n",
      "  \"key_prediction_label_column\": \"label\",\n",
      "  \"key_prediction_query_idx_column\": \"query_idx\"\n",
      "}\n"
     ]
    }
   ],
   "source": [
    "purchase_task = dataset.get_task('purchase')\n",
    "print(purchase_task.metadata.json(indent=2))"
   ]
  },
  {
   "cell_type": "markdown",
   "id": "ebbd0a36-0f15-45ba-9d5d-467f46be0174",
   "metadata": {},
   "source": [
    "One realistic metric is to measure if the truly purchased item is ranked high among a number of candidates. An example is [Mean Reciprocal Rank (MRR)](https://en.wikipedia.org/wiki/Mean_reciprocal_rank). To calcluate the metric, we first pre-generate candidate sets among which the ground truth samples are ranked. This requires two extra metadata fields:\n",
    "\n",
    "- `key_prediction_label_column`: The label column that marks whether the sample is positive (1) or negative (0). How negative samples is generated is dataset/task specific but is typically randomly drawn from the entire population.\n",
    "- `key_prediction_query_idx_column`: An integer index column that marks which positive sample the current sample is grouped with to compute rankings.\n",
    "\n",
    "The two columns, together with the model output, can be directly passed to [TorchMetrics](https://lightning.ai/docs/torchmetrics/stable/retrieval/mrr.html). For example,"
   ]
  },
  {
   "cell_type": "code",
   "execution_count": 13,
   "id": "e75decd4-3211-40e2-96dd-44f70954e6df",
   "metadata": {},
   "outputs": [
    {
     "name": "stdout",
     "output_type": "stream",
     "text": [
      "tensor(0.0598)\n"
     ]
    }
   ],
   "source": [
    "import torch\n",
    "import torchmetrics.retrieval as MR\n",
    "\n",
    "# generate a random prediction\n",
    "num_test_samples = len(list(purchase_task.test_set.values())[0])\n",
    "pred = torch.sigmoid(torch.randn(num_test_samples))\n",
    "# get label and query_idx\n",
    "label = purchase_task.test_set[purchase_task.metadata.key_prediction_label_column]\n",
    "query_idx = purchase_task.test_set[purchase_task.metadata.key_prediction_query_idx_column]\n",
    "label = torch.from_numpy(label)\n",
    "query_idx = torch.from_numpy(query_idx)\n",
    "# calculate MRR\n",
    "metric = MR.RetrievalMRR()\n",
    "mrr = metric(pred, label, indexes=query_idx)\n",
    "print(mrr)"
   ]
  },
  {
   "cell_type": "code",
   "execution_count": null,
   "id": "3cf0fd14-45de-4740-90b1-0863634e4e99",
   "metadata": {},
   "outputs": [],
   "source": []
  }
 ],
 "metadata": {
  "kernelspec": {
   "display_name": "Python 3 (ipykernel)",
   "language": "python",
   "name": "python3"
  },
  "language_info": {
   "codemirror_mode": {
    "name": "ipython",
    "version": 3
   },
   "file_extension": ".py",
   "mimetype": "text/x-python",
   "name": "python",
   "nbconvert_exporter": "python",
   "pygments_lexer": "ipython3",
   "version": "3.9.18"
  }
 },
 "nbformat": 4,
 "nbformat_minor": 5
}
